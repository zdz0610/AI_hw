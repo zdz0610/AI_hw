{
 "cells": [
  {
   "cell_type": "markdown",
   "metadata": {},
   "source": [
    "# Introduction to Artificial Intelligence for Non Computing"
   ]
  },
  {
   "cell_type": "markdown",
   "metadata": {},
   "source": [
    "## Practical 3 (weeks 5 - 6)"
   ]
  },
  {
   "cell_type": "markdown",
   "metadata": {},
   "source": [
    "The following links provide additional information about data analysis , machine learning and Numpy"
   ]
  },
  {
   "cell_type": "markdown",
   "metadata": {},
   "source": [
    "Python data analysis: https://www.imooc.com/learn/843\n",
    "machine learning: https://www.imooc.com/learn/717\n",
    "Numpy :https://www.imooc.com/learn/943"
   ]
  },
  {
   "cell_type": "markdown",
   "metadata": {},
   "source": [
    "#### Theory Questions"
   ]
  },
  {
   "cell_type": "markdown",
   "metadata": {},
   "source": [
    "1\\.Which of the following are true and which are false? Give brief explanations.\n",
    "- a. In a fully observable, turn-taking, zero-sum game between two perfectly rational players,it does not help the first player to know what strategy the second player is using—that is, what move the second player will make, given the first player's move.\n",
    "- b. In a partially observable, turn-taking, zero-sum game between two perfectly rational players, it does not help the first player to know what move the second player will make, given the first player's move.\n",
    "- c. A perfectly rational backgammon agent never loses.\n",
    "\n",
    "See textbook Chapter6 24.6"
   ]
  },
  {
   "cell_type": "markdown",
   "metadata": {},
   "source": [
    "_your answer here..._ \n",
    "- a:True. The second player will play optimally, and so is perfectly predictable up to ties. Knowing which of two equally good moves the opponent will make does not change the value of the game to the first player.\n",
    "- b:False. In a partially observable game, knowing the second player’s move tells the first player additional information about the game state that would otherwise be available only to the second player. \n",
    "- c:False. Backgammon is a game of chance, and the opponent may consistently roll much better dice. The correct statement is that the expected winnings are optimal.\n",
    "***"
   ]
  },
  {
   "cell_type": "markdown",
   "metadata": {},
   "source": [
    "2\\.Define in your own words the terms constraint, backtracking search, arc consistency,backjumping, min-conflicts, and cycle cutset.\n",
    "\n",
    "See textbook Chapter6 6.16"
   ]
  },
  {
   "cell_type": "markdown",
   "metadata": {},
   "source": [
    "_your answer here..._ \n",
    "- constraint：A constraint is a restriction on the possible values of two or more variables.\n",
    "-  backtracking search: Backtracking search is a kind of depth-first search (DFS). For a certain search tree (search tree is the role of recording path and state judgment), backtracking and DFS, the main difference is that backtracking method is not in the solution process. The complete tree structure is preserved, while the depth-first search records the complete search tree.\n",
    "- arc consistency:A directed arc from variable A to variable B in a CSP is arc consistent if, for every value in the current domain of A, there is some consistent value of B.\n",
    "- backjumping:Backjumping is a way of making backtracking search more efficient, by jumping back more than one level when a dead end is reached.\n",
    "- Min-conflicts is a heuristic for use with local search on CSP problems. The heuristic says that, when given a variable to modify, choose the value that conflicts with the fewest number of other variables.\n",
    "- cycle cutset: A cycle cutset is a set of variables which when removed from the constraint graph make it acyclic (i.e., a tree). When the variables of a cycle cutset are instantiated the remainder of the CSP can be solved in linear time.\n",
    "***"
   ]
  },
  {
   "cell_type": "markdown",
   "metadata": {},
   "source": [
    "3\\.Explain why it is a good heuristic to choose the variable that is most constrained but the value that is least constraining in a CSP search.\n",
    "\n",
    "See textbook Chapter6 6.9"
   ]
  },
  {
   "cell_type": "markdown",
   "metadata": {},
   "source": [
    "_your answer here..._ \n",
    "- The most constrained variable makes sense because it chooses a variable that is (all other things being equal) likely to cause a failure, and it is more efficient to fail as early as possible  (thereby pruning large parts of the search space). The least constraining value heuristic makes sense because it allows the most chances for future assignments to avoid conflict.\n",
    "***"
   ]
  },
  {
   "cell_type": "markdown",
   "metadata": {},
   "source": [
    "4\\.Consider the following procedure for choosing moves in games with chance nodes: \n",
    "- 1、Generate some dice-roll sequences (say, 50) down to a suitable depth (say, 8).\n",
    "- 2、With known dice rolls, the game tree becomes deterministic. For each dice-roll sequence,solve the resulting deterministic game tree using alpha-beta.\n",
    "- 3、Use the results to estimate the value of each move and to choose the best.Will this procedure work well? Why (or why not)?\n",
    "\n",
    "See textbook Chapter5 5.19"
   ]
  },
  {
   "cell_type": "markdown",
   "metadata": {},
   "source": [
    "_your answer here..._ \n",
    "- This procedure will give incorrect results. Mathematically, the procedure amounts to assuming that averaging commutes with min and max, which it does not. Intuitively, the choices made by each player in the deterministic trees are based on full knowledge of future dice rolls, and bear no necessary relationship to the moves made without such knowledge。\n",
    "***"
   ]
  },
  {
   "cell_type": "markdown",
   "metadata": {},
   "source": [
    "5\\. Now,please consider this game:  there are three plates A, B and C, each plate has three bills. A puts 1, 20, 50; B puts 5, 10, 100; C puts 1, 5, 20. All units are \"Yuan\". There are two persons A and B, and two of them can check out three plates and banknotes .（ A is ourself, The other is B）\n",
    "The game is divided into three steps: \n",
    "- 1、A select a plate from three plate.\n",
    "- 2、B take out two banknotes from A selected plate,and give the  banknotes to A.  \n",
    "- 3、A take one of the two banknotes, and take it away.among,A want to get the max banknotes, B want to let A to get the min.\n",
    "\n",
    "Try to understand the minimax algorithm，you can click the link:https://blog.csdn.net/tangchenyi/article/details/22920031"
   ]
  },
  {
   "cell_type": "markdown",
   "metadata": {},
   "source": [
    "1、The following figure is the pattern tree of the above example problem:\n",
    "\n",
    "\n",
    "2、then our choose the banknotes, so we should select the maximum value structure, the value of each node is the maximum .\n",
    "\n",
    "\n",
    "3、The third step, assume that the other side will try to give us the minimized value.We can also choose the corresponding maximum\n",
    "\n",
    "\n",
    "4、The value of the root node is 20, which means that  the opponent makes perfectly of  every decision,This is our best decision under the Minimax algorithm. The pattern transformation path is shown in the red path :\n",
    "\n",
    "\n",
    "- Minimax is generally looking for a local optimal solution rather than a global optimal solution. The more the search depth is more likely to find a better solution, but the time consuming will be exponentially expanded.\n",
    "\n",
    "***\n",
    "***"
   ]
  },
  {
   "cell_type": "markdown",
   "metadata": {},
   "source": [
    "### Programming Excercises"
   ]
  },
  {
   "cell_type": "markdown",
   "metadata": {},
   "source": [
    "1\\. Guess number(Single number): please generate a randomly number  with the function (random), then ask someone to guess the number,I think we should give the corresponding hint, otherwise it will be very difficult to guess the number.the game will be over untill you get the right number."
   ]
  },
  {
   "cell_type": "code",
   "execution_count": null,
   "metadata": {},
   "outputs": [],
   "source": [
    "## write your answer here!\n",
    "## write your answer here!\n",
    "import random\n",
    "\n",
    "print (\"The number is generated from 0 to 100, please have a guess\")\n",
    "s = random.randint(0,100)\n",
    "temp=int(input(\"you can guess the number:\"))\n",
    "while temp !=s :\n",
    "        b = int(input( \"I believe you can guess right. Let's do it again:\"))\n",
    "        if b== s:\n",
    "            print(\"You are genius!\")\n",
    "            break\n",
    "        else:\n",
    "            if b > s:\n",
    "                print(\"It's bigger than we thought.\")\n",
    "            else:\n",
    "                print(\"It's smaller than we thought\")\n",
    "\n",
    "\n",
    "\n",
    "\n",
    "\n"
   ]
  },
  {
   "cell_type": "markdown",
   "metadata": {},
   "source": [
    "2\\.if you had understand the guess single number games,Congratulates,next is the guess three number games,Maybe you can do it well.But this is a different way of thinking. \n",
    "first : we need generate three numbers,there are most ten times chances give  you to guess the number,of course,we also give you some cue.\n",
    "\n",
    "- 'When I say:-->It means:\n",
    "- 'error--> The 3 numbers are not in the mystical numbers.'\n",
    "- 'Only the number is correct --> the number is right , but the position is not right.'\n",
    "- 'Absolutely right--> numbers is right and the position also right.'\n",
    "\n",
    "Maybe it's better for you to understand the rule well through see the picture.\n",
    "<div style=\"float:left;\" ><img src=\"img/p1.png\" width=\"400\" height=\"300\" >"
   ]
  },
  {
   "cell_type": "code",
   "execution_count": null,
   "metadata": {},
   "outputs": [],
   "source": [
    "## write your answer here!\n",
    "import random\n",
    "print('there are  three numbers，please Guess what it is.')\n",
    "print ('there are most ten times chances give you to guess the number')\n",
    "print('The clue I gave is:')\n",
    "print('When I say:                     It means:')\n",
    "print('error                           The 3 numbers are not in the mystical numbers.')\n",
    "print('Only the number is correct      the number is right , but the position is not right..')\n",
    "print('Absolutely right                numbers is right and the position also right.')\n",
    "\n",
    "a= random.randint(1,9)\n",
    "b= random.randint(1,9)\n",
    "c=random.randint(1,9)\n",
    "st=input('Please input three integers between 1 to 10')\n",
    "guessNumber=0\n",
    "while guessNumber<10:\n",
    "    st=str(st)\n",
    "    d=int(st[0])\n",
    "    e=int(st[1])\n",
    "    f=int(st[2])\n",
    "    if d==a or d==b or d==c:\n",
    "        if d==a:\n",
    "            sta='Absolutely right'\n",
    "        else:\n",
    "            sta= 'Only the number is right'   \n",
    "    else:\n",
    "        sta='Error!'\n",
    "    if e==a or e==b or e==c:\n",
    "        if e==b:\n",
    "            stb='Absolutely right'\n",
    "        else:\n",
    "            stb= 'Only the number is right'   \n",
    "    else:\n",
    "        stb='Error!'\n",
    "    if f==a or f==b or f==c:\n",
    "        if f==c:\n",
    "            stc='Absolutely right'\n",
    "        else:\n",
    "            stc= 'Only the number is right'   \n",
    "    else:\n",
    "        stc='Error!'\n",
    "    if d==a and e==b and f==c:\n",
    "        print( 'BINGO!')\n",
    "        break\n",
    "    else:\n",
    "        print (\"Clue:\"+sta+\",\"+stb+\",\"+stc)      \n",
    "        st=input('Please input three integers between 1 to 10: ')\n",
    "        guessNumber=guessNumber+1\n",
    "        print (\"You only have \"+str(10-guessNumber)+\"times left!\")\n",
    "        "
   ]
  },
  {
   "cell_type": "markdown",
   "metadata": {},
   "source": [
    "3\\.please try using Python's Tkinter to make a visual interface（GUI）.if you don't know anything.Maybe you can refer to the below interface.and implement it by code.\n",
    "\n",
    "<div style=\"float:left;\" ><img src=\"img/p2.png\" width=\"200\" height=\"200\" >"
   ]
  },
  {
   "cell_type": "code",
   "execution_count": 4,
   "metadata": {},
   "outputs": [],
   "source": [
    "## write your answer here!\n",
    "from tkinter import *\n",
    "root = Tk()  # Create the background color of the window object\n",
    "# Create two lists\n",
    "li = ['C', 'python', 'php', 'html', 'SQL', 'java']\n",
    "movie = ['CSS', 'jQuery', 'Bootstrap']\n",
    "listb = Listbox(root)  # Create two list components\n",
    "listb2 = Listbox(root)\n",
    "for item in li:  # The first widget is inserted into the data\n",
    "    listb.insert(0, item)\n",
    "\n",
    "for item in movie:  # The second widget is inserted into the data\n",
    "    listb2.insert(0, item)\n",
    "\n",
    "listb.pack()  # Place the widget into the main window\n",
    "listb2.pack()\n",
    "root.mainloop()  # Enter the message cycle"
   ]
  },
  {
   "cell_type": "markdown",
   "metadata": {},
   "source": [
    "4\\.Through the initial trial of Tkinter,    please write a simple calculator.\n",
    "\n",
    "<div style=\"float:left;\" ><img src=\"img/p3.png\" width=\"180\" height=\"200\" center=\"left\"></div>\n",
    "<div style=\"float:left;\" ><img src=\"img/p4.png\" width=\"180\" height=\"200\" center=\"right\" ></div>"
   ]
  },
  {
   "cell_type": "code",
   "execution_count": 11,
   "metadata": {},
   "outputs": [],
   "source": [
    "## write your answer here\n",
    "import tkinter \n",
    "\n",
    "root  = tkinter.Tk()\n",
    "root.minsize(280,530)\n",
    "root.title('Simple Calculator')\n",
    "\n",
    "result = tkinter.StringVar()\n",
    "result.set(0)                           \n",
    "result2 = tkinter.StringVar()       \n",
    "result2.set('')\n",
    "label = tkinter.Label(root,font = ('微软雅黑',20),bg = '#EEE9E9',bd ='9',fg = '#828282',anchor = 'se',textvariable = result2)\n",
    "label.place(width = 280,height = 170)\n",
    "label2 = tkinter.Label(root,font = ('微软雅黑',30),bg = '#EEE9E9',bd ='9',fg = 'black',anchor = 'se',textvariable = result)\n",
    "label2.place(y = 170,width = 280,height = 60)\n",
    "\n",
    "\n",
    "btn7 = tkinter.Button(root,text = '7',font = ('微软雅黑',20),fg = ('#4F4F4F'),bd = 0.5,command = lambda : pressNum('7'))\n",
    "btn7.place(x = 0,y = 285,width = 70,height = 55)\n",
    "btn8 = tkinter.Button(root,text = '8',font = ('微软雅黑',20),fg = ('#4F4F4F'),bd = 0.5,command = lambda : pressNum('8'))\n",
    "btn8.place(x = 70,y = 285,width = 70,height = 55)\n",
    "btn9 = tkinter.Button(root,text = '9',font = ('微软雅黑',20),fg = ('#4F4F4F'),bd = 0.5,command = lambda : pressNum('9'))\n",
    "btn9.place(x = 140,y = 285,width = 70,height = 55)\n",
    "\n",
    "btn4 = tkinter.Button(root,text = '4',font = ('微软雅黑',20),fg = ('#4F4F4F'),bd = 0.5,command = lambda : pressNum('4'))\n",
    "btn4.place(x = 0,y = 340,width = 70,height = 55)\n",
    "btn5 = tkinter.Button(root,text = '5',font = ('微软雅黑',20),fg = ('#4F4F4F'),bd = 0.5,command = lambda : pressNum('5'))\n",
    "btn5.place(x = 70,y = 340,width = 70,height = 55)\n",
    "btn6 = tkinter.Button(root,text = '6',font = ('微软雅黑',20),fg = ('#4F4F4F'),bd = 0.5,command = lambda : pressNum('6'))\n",
    "btn6.place(x = 140,y = 340,width = 70,height = 55)\n",
    "\n",
    "btn1 = tkinter.Button(root,text = '1',font = ('微软雅黑',20),fg = ('#4F4F4F'),bd = 0.5,command = lambda : pressNum('1'))\n",
    "btn1.place(x = 0,y = 395,width = 70,height = 55)\n",
    "btn2 = tkinter.Button(root,text = '2',font = ('微软雅黑',20),fg = ('#4F4F4F'),bd = 0.5,command = lambda : pressNum('2'))\n",
    "btn2.place(x = 70,y = 395,width = 70,height = 55)\n",
    "btn3 = tkinter.Button(root,text = '3',font = ('微软雅黑',20),fg = ('#4F4F4F'),bd = 0.5,command = lambda : pressNum('3'))\n",
    "btn3.place(x = 140,y = 395,width = 70,height = 55)\n",
    "btn0 = tkinter.Button(root,text = '0',font = ('微软雅黑',20),fg = ('#4F4F4F'),bd = 0.5,command = lambda : pressNum('0'))\n",
    "btn0.place(x = 70,y = 450,width = 70,height = 55)\n",
    "\n",
    "btnac = tkinter.Button(root,text = 'AC',bd = 0.5,font = ('黑体',20),fg = 'orange',command = lambda :pressCompute('AC'))\n",
    "btnac.place(x = 0,y = 230,width = 70,height = 55)\n",
    "btnback = tkinter.Button(root,text = '←',font = ('微软雅黑',20),fg = '#4F4F4F',bd = 0.5,command = lambda:pressCompute('b'))\n",
    "btnback.place(x = 70,y = 230,width = 70,height = 55)\n",
    "btndivi = tkinter.Button(root,text = '÷',font = ('微软雅黑',20),fg = '#4F4F4F',bd = 0.5,command = lambda:pressCompute('/'))\n",
    "btndivi.place(x = 140,y = 230,width = 70,height = 55)\n",
    "btnmul = tkinter.Button(root,text ='×',font = ('微软雅黑',20),fg = \"#4F4F4F\",bd = 0.5,command = lambda:pressCompute('*'))\n",
    "btnmul.place(x = 210,y = 230,width = 70,height = 55)\n",
    "btnsub = tkinter.Button(root,text = '-',font = ('微软雅黑',20),fg = ('#4F4F4F'),bd = 0.5,command = lambda:pressCompute('-'))\n",
    "btnsub.place(x = 210,y = 285,width = 70,height = 55)\n",
    "btnadd = tkinter.Button(root,text = '+',font = ('微软雅黑',20),fg = ('#4F4F4F'),bd = 0.5,command = lambda:pressCompute('+'))\n",
    "btnadd.place(x = 210,y = 340,width = 70,height = 55)\n",
    "btnequ = tkinter.Button(root,text = '=',bg = 'orange',font = ('微软雅黑',20),fg = ('#4F4F4F'),bd = 0.5,command = lambda :pressEqual())\n",
    "btnequ.place(x = 210,y = 395,width = 70,height = 110)\n",
    "btnper = tkinter.Button(root,text = '%',font = ('微软雅黑',20),fg = ('#4F4F4F'),bd = 0.5,command = lambda:pressCompute('%'))\n",
    "btnper.place(x = 0,y = 450,width = 70,height = 55)\n",
    "btnpoint = tkinter.Button(root,text = '.',font = ('微软雅黑',20),fg = ('#4F4F4F'),bd = 0.5,command = lambda:pressCompute('.'))\n",
    "btnpoint.place(x = 140,y = 450,width = 70,height = 55)\n",
    "\n",
    "\n",
    "\n",
    "lists = []                           \n",
    "isPressSign = False                  \n",
    "isPressNum = False\n",
    "def pressNum(num):                   \n",
    "    global lists                     \n",
    "    global isPressSign\n",
    "    if isPressSign == False:\n",
    "        pass\n",
    "    else:                           \n",
    "        result.set(0)\n",
    "        isPressSign = False\n",
    "\n",
    "    \n",
    "    oldnum = result.get()            \n",
    "    if oldnum =='0':              \n",
    "        result.set(num)\n",
    "    else:                            \n",
    "        newnum = oldnum + num\n",
    "        result.set(newnum)            \n",
    "\n",
    "\n",
    "def pressCompute(sign):\n",
    "    global lists\n",
    "    global isPressSign\n",
    "    num = result.get()              \n",
    "    lists.append(num)              \n",
    "\n",
    "    lists.append(sign)              \n",
    "    isPressSign = True\n",
    "\n",
    "    if sign =='AC':                \n",
    "        lists.clear()\n",
    "        result.set(0)\n",
    "    if sign =='b':                \n",
    "        a = num[0:-1]\n",
    "        lists.clear()\n",
    "        result.set(a)\n",
    "\n",
    "def pressEqual():\n",
    "    global lists\n",
    "    global isPressSign\n",
    "\n",
    "\n",
    "    curnum = result.get()           \n",
    "    lists.append(curnum)\n",
    "\n",
    "    computrStr = ''.join(lists)     \n",
    "    endNum = eval(computrStr)       \n",
    "    result.set(endNum)              \n",
    "    result2.set(computrStr)        \n",
    "    lists.clear()                  \n",
    "\n",
    "root.mainloop()"
   ]
  },
  {
   "cell_type": "markdown",
   "metadata": {},
   "source": [
    "5\\.Ball game:Python's pinball game, which can realize the game function of the keyboard control bottom baffle moving collision ball similar to table tennis game. \n",
    "\n",
    "<div style=\"float:left;\" ><img src=\"img/p5.png\" width=\"200\" height=\"200\" center=\"left\"></div>\n",
    "<div style=\"float:left;\" ><img src=\"img/p6.png\" width=\"200\" height=\"200\" center=\"right\" ></div>\n"
   ]
  },
  {
   "cell_type": "markdown",
   "metadata": {},
   "source": [
    "this is a step:how to install the matplotlib,you can reference this link:https://blog.csdn.net/not_give_up_/article/details/79058272\n",
    "1. Ball Class\n",
    "    draw is responsible for moving Ball\n",
    "    Collision detection, bounce, Ball detection of Paddle \n",
    "2. Paddle Class\n",
    "    draw is responsible for moving Paddle\n",
    "    Collision detection to determine whether or not to continue ,Monitor keyboard events\n",
    "3. main cycle\n",
    "    Drawing the Ball and Paddle"
   ]
  },
  {
   "cell_type": "code",
   "execution_count": 1,
   "metadata": {},
   "outputs": [],
   "source": [
    "from tkinter import *\n",
    "import matplotlib\n",
    "matplotlib.use('Agg')\n",
    "import random\n",
    "import time\n",
    "class Ball:\n",
    "    def __init__(self, canvas, paddle, color):\n",
    "        self.canvas = canvas\n",
    "        self.paddle = paddle\n",
    "        self.id = canvas.create_oval(10, 10, 25, 25, fill=color)\n",
    "        self.canvas.move(self.id, 245, 100)\n",
    "        startx = [-3, -2, -1, 1, 2, 3]\n",
    "        random.shuffle(startx)\n",
    "        self.x = startx[0]\n",
    "        self.y = -3\n",
    "        self.canvas_height = self.canvas.winfo_height()\n",
    "        self.canvas_width = self.canvas.winfo_width()\n",
    "        self.hit_bottom = False\n",
    "    def draw(self):\n",
    "        self.canvas.move(self.id, self.x, self.y)\n",
    "        pos = self.canvas.coords(self.id)#top-left bottom-right\n",
    "        if (pos[1] <= 0 or self.hit_paddle(pos) == True):\n",
    "            self.y = -self.y\n",
    "        if (pos[0] <= 0 or pos[2] >= self.canvas_width):\n",
    "            self.x = -self.x\n",
    "        if (pos[3] >= self.canvas_height):\n",
    "            self.hit_bottom = True\n",
    "    def hit_paddle(self, pos):\n",
    "        paddle_pos = self.canvas.coords(self.paddle.id)\n",
    "        if (pos[2] >= paddle_pos[0] and pos[0] <= paddle_pos[2]):\n",
    "            if (pos[3] >= paddle_pos[1] and pos[3] <= paddle_pos[3]):\n",
    "                return True\n",
    "        return False\n",
    "class Paddle:\n",
    "    def __init__(self, canvas, color):\n",
    "        self.canvas = canvas\n",
    "        self.id = canvas.create_rectangle(0, 0, 100, 10, fill = color)\n",
    "        self.x = 0\n",
    "        self.canvas.move(self.id, 200, 300)\n",
    "        self.canvas_width = self.canvas.winfo_width()\n",
    "        self.canvas.bind_all(\"<Key-Left>\", self.turn_left)\n",
    "        self.canvas.bind_all(\"<Key-Right>\", self.turn_right)\n",
    "    def draw(self):\n",
    "        pos = self.canvas.coords(self.id)\n",
    "        if (pos[0] + self.x >= 0 and pos[2] + self.x <= self.canvas_width):\n",
    "            self.canvas.move(self.id, self.x, 0)\n",
    "    #self.x = 0\n",
    "    def turn_left(self, event):\n",
    "        self.x = -4\n",
    "    def turn_right(self, event):\n",
    "        self.x = 4\n",
    "\n",
    "tk = Tk()\n",
    "tk.title(\"Game\")\n",
    "tk.resizable(0, 0)#not resizable\n",
    "tk.wm_attributes(\"-topmost\", 1)#at top\n",
    "canvas = Canvas(tk, width = 500, height = 500, bd = 0, highlightthickness = 0)\n",
    "canvas.pack()\n",
    "tk.update()#init\n",
    "paddle = Paddle(canvas, 'blue')\n",
    "ball = Ball(canvas, paddle, 'red')\n",
    "while 1:\n",
    "    if (ball.hit_bottom == False):\n",
    "        ball.draw()\n",
    "        paddle.draw()\n",
    "        tk.update_idletasks()\n",
    "        tk.update()\n",
    "        time.sleep(0.01)\n",
    "    else:\n",
    "        break\n",
    "\n",
    "\n",
    "\n"
   ]
  },
  {
   "cell_type": "code",
   "execution_count": null,
   "metadata": {},
   "outputs": [],
   "source": []
  },
  {
   "cell_type": "code",
   "execution_count": null,
   "metadata": {},
   "outputs": [],
   "source": []
  }
 ],
 "metadata": {
  "kernelspec": {
   "display_name": "Python 3",
   "language": "python",
   "name": "python3"
  },
  "language_info": {
   "codemirror_mode": {
    "name": "ipython",
    "version": 3
   },
   "file_extension": ".py",
   "mimetype": "text/x-python",
   "name": "python",
   "nbconvert_exporter": "python",
   "pygments_lexer": "ipython3",
   "version": "3.6.5"
  }
 },
 "nbformat": 4,
 "nbformat_minor": 2
}
