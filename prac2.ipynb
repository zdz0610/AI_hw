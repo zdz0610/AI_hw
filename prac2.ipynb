{
 "cells": [
  {
   "cell_type": "markdown",
   "metadata": {},
   "source": [
    "# Introduction to Artificial Intelligence for Non Computing"
   ]
  },
  {
   "cell_type": "markdown",
   "metadata": {},
   "source": [
    "## Practical 2 (weeks 3 - 4)"
   ]
  },
  {
   "cell_type": "markdown",
   "metadata": {},
   "source": [
    "## Search Techniques"
   ]
  },
  {
   "cell_type": "markdown",
   "metadata": {},
   "source": [
    "The following links provide additional information about depth first search and breath first search"
   ]
  },
  {
   "cell_type": "markdown",
   "metadata": {},
   "source": [
    "- Depth first search:   link：https://pan.baidu.com/s/1bkLHKKbSBNpfFuKwDyURqw  password：oy76\n",
    "- Breath first search:  link：https://pan.baidu.com/s/176g5q0W3rGbSAM5tZMraeg   password：7mdh"
   ]
  },
  {
   "cell_type": "markdown",
   "metadata": {},
   "source": [
    "#### Theory Questions "
   ]
  },
  {
   "cell_type": "markdown",
   "metadata": {},
   "source": [
    "1\\. What is an algorithm? A sequence of steps such as a recipe or a movie script.\n",
    "\n",
    "As a movie viewer, please write an algorithm for a process to \"see a movie\". Include details of the following for example (add additional information yourself):\n",
    "\t- The start conditions \n",
    "\t-- I want to watch a movie\n",
    "\t- Roles (people/actors involved) \n",
    "    --watcher, ticket seller etc \n",
    "    -Equipment required (\"props\")\n",
    "    --seats, ticket etc\n",
    "    - The scenes \n",
    "    -- scene 1 - buy ticket \n",
    "    -- ??? what happens next\n",
    "    -- scene 3, scene 3 ...\n",
    "    - Results/outcomes\n",
    "    -- ?\n"
   ]
  },
  {
   "cell_type": "markdown",
   "metadata": {},
   "source": [
    "_your answer here..._ \n",
    "\t- The start conditions \n",
    "\t-- I want to watch a movie\n",
    "\t- Roles (people/actors involved) \n",
    "    --watcher, ticket seller etc \n",
    "    -Equipment required (\"props\")\n",
    "    --seats, ticket etc\n",
    "    - The scenes \n",
    "    -- scene 1 - buy ticket \n",
    "    -- go to find your ticket\n",
    "    -- scene 3, scene 3 ...\n",
    "    - Results/outcomes\n",
    "    -- see the movie\n",
    "\n",
    "***"
   ]
  },
  {
   "cell_type": "markdown",
   "metadata": {},
   "source": [
    "2\\. A farmer with his wolf, duck and bag of corn come to the east side of a river they wish to cross. There is a boat at the rivers edge, but of course only the farmer can row. The boat can only hold two things (including the rower) at any one time. If the wolf is ever left alone with the duck, the wolf will eat it. Similarly if the duck is ever left alone with the corn, the duck will eat it. How can the farmer get across the river so that all four arrive safely on the other side? "
   ]
  },
  {
   "cell_type": "markdown",
   "metadata": {},
   "source": [
    "_your answer here..._ \n",
    "1:Farmer with corn\n",
    "2:Farmer with wolf\n",
    "3:Farmer with duck\n",
    "***"
   ]
  },
  {
   "cell_type": "markdown",
   "metadata": {},
   "source": [
    " "
   ]
  },
  {
   "cell_type": "markdown",
   "metadata": {},
   "source": [
    "3\\.Explain why we determine our problem goals before we write the problem formulation (including the model and deciding what algorithm or techniques to use - for example search, or other method).\n",
    "\n",
    "See Chapter3.1 (Russel & Norvig)"
   ]
  },
  {
   "cell_type": "markdown",
   "metadata": {},
   "source": [
    "In this way question can be easily solved\n",
    "****"
   ]
  },
  {
   "cell_type": "markdown",
   "metadata": {},
   "source": [
    "4\\. This question requires you to perform BFS and DFS on paper.\n",
    "\n",
    "<img src=\"img/p1.png\" width=\"180\" height=\"180\" >\n",
    "\n",
    "1. Simulate (on pencil-and-paper) breadth-first search starting from node A when the goal node is K.\n",
    "2. Simulate (on pencil-and-paper) depth first search starting from node A when the goal node is I.\n"
   ]
  },
  {
   "cell_type": "markdown",
   "metadata": {},
   "source": [
    "1.A-B-C-D-E-F-G-H-I-K \n",
    "2.A-B-C-E-F-D-H-I-K-G\n",
    "***"
   ]
  },
  {
   "cell_type": "markdown",
   "metadata": {},
   "source": [
    "5\\.Consider a state space where the start state is number 1 and each state  k has two successors: numbers 2k and 2k + 1.\n",
    "- a. Draw the portion of the state space for states 1 to 15.\n",
    "- b. Suppose the goal state is 11. List the order in which nodes will be visited for breadthfirst\n",
    "search, depth-limited search with limit 3, and iterative deepening search.\n",
    "- c. How well would bidirectional search work on this problem? What is the branching\n",
    "factor in each direction of the bidirectional search?\n",
    "- d. Does the answer to (c) suggest a reformulation of the problem that would allow you to\n",
    "solve the problem of getting from state 1 to a given goal state with almost no search?\n",
    "- e. Call the action going from k to 2k Left, and the action going to 2k + 1 Right. Can you\n",
    "find an algorithm that outputs the solution to this problem without any search at all?\n",
    "\n",
    "See textbook Chapter3.15"
   ]
  },
  {
   "cell_type": "markdown",
   "metadata": {},
   "source": [
    "1-2-3-4-5-6-7-8-9-10-11-\n",
    "1-2-4-8-9-5-10-11\n"
   ]
  },
  {
   "cell_type": "markdown",
   "metadata": {},
   "source": [
    "### Programming Excercises"
   ]
  },
  {
   "cell_type": "markdown",
   "metadata": {},
   "source": [
    "1\\.Write a program to solve a classic ancient Chinese puzzle:  \n",
    " We count 35 heads and 94 legs among the chickens and rabbits in a farm. How many rabbits and how many chickens do we have? "
   ]
  },
  {
   "cell_type": "code",
   "execution_count": 1,
   "metadata": {
    "scrolled": true
   },
   "outputs": [
    {
     "name": "stdout",
     "output_type": "stream",
     "text": [
      "the number of chickens is: 23, the number of rabbits is: 12\n"
     ]
    }
   ],
   "source": [
    "##Hint:Use for loop to iterate all possible\n",
    "## write your answer here!\n",
    "heads=35\n",
    "legs=94\n",
    "chickens=0\n",
    "rabbits=0\n",
    "range(heads)\n",
    "for i in range(heads):\n",
    "    j=35-i\n",
    "    if i+j==35 and 2*i+4*j==94:\n",
    "        chickens=i\n",
    "        rabbits=j\n",
    "        print('the number of chickens is: %d, the number of rabbits is: %d'%(chickens,rabbits))\n",
    "     "
   ]
  },
  {
   "cell_type": "markdown",
   "metadata": {},
   "source": [
    "2\\. _Social networking_ Please look at the graph below of social relationships. You have a mango farm, you need to find a mango buyer and sell him your mango that you have grown (just a small farm). To this end, our principle is to use our social network of friends separated by one degree, and then second degree friends (friends of friends), third degree friends (friends of friends of friends).\n",
    "\n",
    "Use the depth first algorithm to search your network until you find a mango seller. \n",
    "\n",
    "We make an assumption that if the person's name ends with m, then it means the person must be the mango seller!\n",
    "\n",
    "\n",
    "<img src=\"img/p3.png\" width=\"500\" height=\"400\" >"
   ]
  },
  {
   "cell_type": "code",
   "execution_count": 37,
   "metadata": {},
   "outputs": [
    {
     "name": "stdout",
     "output_type": "stream",
     "text": [
      "the mango seller is thom\n"
     ]
    }
   ],
   "source": [
    "graph = {'you': ['bob', 'alice','claire'],\n",
    "         'alice': ['peggy'],\n",
    "         'bob': ['peggy','anui'],\n",
    "         'claire': ['thom','jonny']}\n",
    "class Queue:\n",
    "    def __init__(self):\n",
    "        self.list = []\n",
    "    def push(self,item):\n",
    "        self.list.insert(0,item)\n",
    "    def pop(self):\n",
    "        return self.list.pop()\n",
    "    def isEmpty(self):\n",
    "        return len(self.list) == 0\n",
    "queue=Queue()\n",
    "def isMango(string):\n",
    "    if string[-1]=='m':\n",
    "        return True\n",
    "    else:\n",
    "        return False\n",
    "node='you'\n",
    "queue.push(node)\n",
    "visited=[]\n",
    "while not queue.isEmpty():\n",
    "    node=queue.pop()\n",
    "    if isMango(node):\n",
    "        print 'the mango seller is '+node\n",
    "    if node not in visited:\n",
    "        visited.append(node)\n",
    "        if node in graph.keys():\n",
    "            successors=graph[node]\n",
    "            for tmp in successors:\n",
    "                if tmp not in visited:\n",
    "                    queue.push(tmp)"
   ]
  },
  {
   "cell_type": "markdown",
   "metadata": {},
   "source": [
    "3\\. Depth First traverse：Use depth first traversal to traverse all the DLL files on the C disk and output the file names.\n",
    "\n",
    "Update your code to search for a particular filename.\n",
    "\n",
    "What protocol did you use to select the next node to expand on the fringe?"
   ]
  },
  {
   "cell_type": "markdown",
   "metadata": {},
   "source": [
    "下面这一段代码，不能直接遍历D盘所有的文件，但是如果指定的文件夹是可以进行访问的，下面以文件夹D:\\\\sustc\\\\AI\\\\Assignment1_AI为例，遍历所有文件"
   ]
  },
  {
   "cell_type": "code",
   "execution_count": 49,
   "metadata": {},
   "outputs": [
    {
     "name": "stdout",
     "output_type": "stream",
     "text": [
      "文件:D:\\sustc\\AI\\Assignment1_AI/autograder.py\n",
      "文件:D:\\sustc\\AI\\Assignment1_AI/commands.txt\n",
      "文件:D:\\sustc\\AI\\Assignment1_AI/eightpuzzle.py\n",
      "文件:D:\\sustc\\AI\\Assignment1_AI/game.py\n",
      "文件:D:\\sustc\\AI\\Assignment1_AI/game.pyc\n",
      "文件:D:\\sustc\\AI\\Assignment1_AI/ghostAgents.py\n",
      "文件:D:\\sustc\\AI\\Assignment1_AI/ghostAgents.pyc\n",
      "文件:D:\\sustc\\AI\\Assignment1_AI/grading.py\n",
      "文件:D:\\sustc\\AI\\Assignment1_AI/grading.pyc\n",
      "文件:D:\\sustc\\AI\\Assignment1_AI/graphicsDisplay.py\n",
      "文件:D:\\sustc\\AI\\Assignment1_AI/graphicsDisplay.pyc\n",
      "文件:D:\\sustc\\AI\\Assignment1_AI/graphicsUtils.py\n",
      "文件:D:\\sustc\\AI\\Assignment1_AI/graphicsUtils.pyc\n",
      "文件:D:\\sustc\\AI\\Assignment1_AI/keyboardAgents.py\n",
      "文件:D:\\sustc\\AI\\Assignment1_AI/keyboardAgents.pyc\n",
      "文件:D:\\sustc\\AI\\Assignment1_AI/layout.py\n",
      "文件:D:\\sustc\\AI\\Assignment1_AI/layout.pyc\n",
      "文件:D:\\sustc\\AI\\Assignment1_AI/pacman.py\n",
      "文件:D:\\sustc\\AI\\Assignment1_AI/pacman.pyc\n",
      "文件:D:\\sustc\\AI\\Assignment1_AI/pacmanAgents.py\n",
      "文件:D:\\sustc\\AI\\Assignment1_AI/pacmanAgents.pyc\n",
      "文件:D:\\sustc\\AI\\Assignment1_AI/projectParams.py\n",
      "文件:D:\\sustc\\AI\\Assignment1_AI/projectParams.pyc\n",
      "文件:D:\\sustc\\AI\\Assignment1_AI/python\n",
      "文件:D:\\sustc\\AI\\Assignment1_AI/search.py\n",
      "文件:D:\\sustc\\AI\\Assignment1_AI/search.pyc\n",
      "文件:D:\\sustc\\AI\\Assignment1_AI/searchAgents.py\n",
      "文件:D:\\sustc\\AI\\Assignment1_AI/searchAgents.pyc\n",
      "文件:D:\\sustc\\AI\\Assignment1_AI/searchTestClasses.py\n",
      "文件:D:\\sustc\\AI\\Assignment1_AI/searchTestClasses.pyc\n",
      "文件:D:\\sustc\\AI\\Assignment1_AI/submission_autograder.py\n",
      "文件:D:\\sustc\\AI\\Assignment1_AI/testClasses.py\n",
      "文件:D:\\sustc\\AI\\Assignment1_AI/testClasses.pyc\n",
      "文件:D:\\sustc\\AI\\Assignment1_AI/testParser.py\n",
      "文件:D:\\sustc\\AI\\Assignment1_AI/testParser.pyc\n",
      "文件:D:\\sustc\\AI\\Assignment1_AI/textDisplay.py\n",
      "文件:D:\\sustc\\AI\\Assignment1_AI/textDisplay.pyc\n",
      "文件:D:\\sustc\\AI\\Assignment1_AI/util.py\n",
      "文件:D:\\sustc\\AI\\Assignment1_AI/util.pyc\n",
      "文件:D:\\sustc\\AI\\Assignment1_AI/VERSION\n",
      "文件:D:\\sustc\\AI\\Assignment1_AI/.spyproject/codestyle.ini\n",
      "文件:D:\\sustc\\AI\\Assignment1_AI/.spyproject/encoding.ini\n",
      "文件:D:\\sustc\\AI\\Assignment1_AI/.spyproject/vcs.ini\n",
      "文件:D:\\sustc\\AI\\Assignment1_AI/.spyproject/workspace.ini\n",
      "文件:D:\\sustc\\AI\\Assignment1_AI/layouts/bigCorners.lay\n",
      "文件:D:\\sustc\\AI\\Assignment1_AI/layouts/bigMaze.lay\n",
      "文件:D:\\sustc\\AI\\Assignment1_AI/layouts/bigSafeSearch.lay\n",
      "文件:D:\\sustc\\AI\\Assignment1_AI/layouts/bigSearch.lay\n",
      "文件:D:\\sustc\\AI\\Assignment1_AI/layouts/boxSearch.lay\n",
      "文件:D:\\sustc\\AI\\Assignment1_AI/layouts/capsuleClassic.lay\n",
      "文件:D:\\sustc\\AI\\Assignment1_AI/layouts/contestClassic.lay\n",
      "文件:D:\\sustc\\AI\\Assignment1_AI/layouts/contoursMaze.lay\n",
      "文件:D:\\sustc\\AI\\Assignment1_AI/layouts/greedySearch.lay\n",
      "文件:D:\\sustc\\AI\\Assignment1_AI/layouts/mediumClassic.lay\n",
      "文件:D:\\sustc\\AI\\Assignment1_AI/layouts/mediumCorners.lay\n",
      "文件:D:\\sustc\\AI\\Assignment1_AI/layouts/mediumDottedMaze.lay\n",
      "文件:D:\\sustc\\AI\\Assignment1_AI/layouts/mediumMaze.lay\n",
      "文件:D:\\sustc\\AI\\Assignment1_AI/layouts/mediumSafeSearch.lay\n",
      "文件:D:\\sustc\\AI\\Assignment1_AI/layouts/mediumScaryMaze.lay\n",
      "文件:D:\\sustc\\AI\\Assignment1_AI/layouts/mediumSearch.lay\n",
      "文件:D:\\sustc\\AI\\Assignment1_AI/layouts/minimaxClassic.lay\n",
      "文件:D:\\sustc\\AI\\Assignment1_AI/layouts/oddSearch.lay\n",
      "文件:D:\\sustc\\AI\\Assignment1_AI/layouts/openClassic.lay\n",
      "文件:D:\\sustc\\AI\\Assignment1_AI/layouts/openMaze.lay\n",
      "文件:D:\\sustc\\AI\\Assignment1_AI/layouts/openSearch.lay\n",
      "文件:D:\\sustc\\AI\\Assignment1_AI/layouts/originalClassic.lay\n",
      "文件:D:\\sustc\\AI\\Assignment1_AI/layouts/powerClassic.lay\n",
      "文件:D:\\sustc\\AI\\Assignment1_AI/layouts/smallClassic.lay\n",
      "文件:D:\\sustc\\AI\\Assignment1_AI/layouts/smallMaze.lay\n",
      "文件:D:\\sustc\\AI\\Assignment1_AI/layouts/smallSafeSearch.lay\n",
      "文件:D:\\sustc\\AI\\Assignment1_AI/layouts/smallSearch.lay\n",
      "文件:D:\\sustc\\AI\\Assignment1_AI/layouts/testClassic.lay\n",
      "文件:D:\\sustc\\AI\\Assignment1_AI/layouts/testMaze.lay\n",
      "文件:D:\\sustc\\AI\\Assignment1_AI/layouts/testSearch.lay\n",
      "文件:D:\\sustc\\AI\\Assignment1_AI/layouts/tinyCorners.lay\n",
      "文件:D:\\sustc\\AI\\Assignment1_AI/layouts/tinyMaze.lay\n",
      "文件:D:\\sustc\\AI\\Assignment1_AI/layouts/tinySafeSearch.lay\n",
      "文件:D:\\sustc\\AI\\Assignment1_AI/layouts/tinySearch.lay\n",
      "文件:D:\\sustc\\AI\\Assignment1_AI/layouts/trappedClassic.lay\n",
      "文件:D:\\sustc\\AI\\Assignment1_AI/layouts/trickyClassic.lay\n",
      "文件:D:\\sustc\\AI\\Assignment1_AI/layouts/trickySearch.lay\n",
      "文件:D:\\sustc\\AI\\Assignment1_AI/test_cases/CONFIG\n",
      "文件:D:\\sustc\\AI\\Assignment1_AI/test_cases/q1/CONFIG\n",
      "文件:D:\\sustc\\AI\\Assignment1_AI/test_cases/q1/graph_backtrack.solution\n",
      "文件:D:\\sustc\\AI\\Assignment1_AI/test_cases/q1/graph_backtrack.test\n",
      "文件:D:\\sustc\\AI\\Assignment1_AI/test_cases/q1/graph_bfs_vs_dfs.solution\n",
      "文件:D:\\sustc\\AI\\Assignment1_AI/test_cases/q1/graph_bfs_vs_dfs.test\n",
      "文件:D:\\sustc\\AI\\Assignment1_AI/test_cases/q1/graph_infinite.solution\n",
      "文件:D:\\sustc\\AI\\Assignment1_AI/test_cases/q1/graph_infinite.test\n",
      "文件:D:\\sustc\\AI\\Assignment1_AI/test_cases/q1/graph_manypaths.solution\n",
      "文件:D:\\sustc\\AI\\Assignment1_AI/test_cases/q1/graph_manypaths.test\n",
      "文件:D:\\sustc\\AI\\Assignment1_AI/test_cases/q1/pacman_1.solution\n",
      "文件:D:\\sustc\\AI\\Assignment1_AI/test_cases/q1/pacman_1.test\n",
      "文件:D:\\sustc\\AI\\Assignment1_AI/test_cases/q2/CONFIG\n",
      "文件:D:\\sustc\\AI\\Assignment1_AI/test_cases/q2/graph_backtrack.solution\n",
      "文件:D:\\sustc\\AI\\Assignment1_AI/test_cases/q2/graph_backtrack.test\n",
      "文件:D:\\sustc\\AI\\Assignment1_AI/test_cases/q2/graph_bfs_vs_dfs.solution\n",
      "文件:D:\\sustc\\AI\\Assignment1_AI/test_cases/q2/graph_bfs_vs_dfs.test\n",
      "文件:D:\\sustc\\AI\\Assignment1_AI/test_cases/q2/graph_infinite.solution\n",
      "文件:D:\\sustc\\AI\\Assignment1_AI/test_cases/q2/graph_infinite.test\n",
      "文件:D:\\sustc\\AI\\Assignment1_AI/test_cases/q2/graph_manypaths.solution\n",
      "文件:D:\\sustc\\AI\\Assignment1_AI/test_cases/q2/graph_manypaths.test\n",
      "文件:D:\\sustc\\AI\\Assignment1_AI/test_cases/q2/pacman_1.solution\n",
      "文件:D:\\sustc\\AI\\Assignment1_AI/test_cases/q2/pacman_1.test\n",
      "文件:D:\\sustc\\AI\\Assignment1_AI/test_cases/q3/CONFIG\n",
      "文件:D:\\sustc\\AI\\Assignment1_AI/test_cases/q3/graph_backtrack.solution\n",
      "文件:D:\\sustc\\AI\\Assignment1_AI/test_cases/q3/graph_backtrack.test\n",
      "文件:D:\\sustc\\AI\\Assignment1_AI/test_cases/q3/graph_bfs_vs_dfs.solution\n",
      "文件:D:\\sustc\\AI\\Assignment1_AI/test_cases/q3/graph_bfs_vs_dfs.test\n",
      "文件:D:\\sustc\\AI\\Assignment1_AI/test_cases/q3/graph_infinite.solution\n",
      "文件:D:\\sustc\\AI\\Assignment1_AI/test_cases/q3/graph_infinite.test\n",
      "文件:D:\\sustc\\AI\\Assignment1_AI/test_cases/q3/graph_manypaths.solution\n",
      "文件:D:\\sustc\\AI\\Assignment1_AI/test_cases/q3/graph_manypaths.test\n",
      "文件:D:\\sustc\\AI\\Assignment1_AI/test_cases/q3/ucs_0_graph.solution\n",
      "文件:D:\\sustc\\AI\\Assignment1_AI/test_cases/q3/ucs_0_graph.test\n",
      "文件:D:\\sustc\\AI\\Assignment1_AI/test_cases/q3/ucs_1_problemC.solution\n",
      "文件:D:\\sustc\\AI\\Assignment1_AI/test_cases/q3/ucs_1_problemC.test\n",
      "文件:D:\\sustc\\AI\\Assignment1_AI/test_cases/q3/ucs_2_problemE.solution\n",
      "文件:D:\\sustc\\AI\\Assignment1_AI/test_cases/q3/ucs_2_problemE.test\n",
      "文件:D:\\sustc\\AI\\Assignment1_AI/test_cases/q3/ucs_3_problemW.solution\n",
      "文件:D:\\sustc\\AI\\Assignment1_AI/test_cases/q3/ucs_3_problemW.test\n",
      "文件:D:\\sustc\\AI\\Assignment1_AI/test_cases/q3/ucs_4_testSearch.solution\n",
      "文件:D:\\sustc\\AI\\Assignment1_AI/test_cases/q3/ucs_4_testSearch.test\n",
      "文件:D:\\sustc\\AI\\Assignment1_AI/test_cases/q3/ucs_5_goalAtDequeue.solution\n",
      "文件:D:\\sustc\\AI\\Assignment1_AI/test_cases/q3/ucs_5_goalAtDequeue.test\n",
      "文件:D:\\sustc\\AI\\Assignment1_AI/test_cases/q4/astar_0.solution\n",
      "文件:D:\\sustc\\AI\\Assignment1_AI/test_cases/q4/astar_0.test\n",
      "文件:D:\\sustc\\AI\\Assignment1_AI/test_cases/q4/astar_1_graph_heuristic.solution\n",
      "文件:D:\\sustc\\AI\\Assignment1_AI/test_cases/q4/astar_1_graph_heuristic.test\n",
      "文件:D:\\sustc\\AI\\Assignment1_AI/test_cases/q4/astar_2_manhattan.solution\n",
      "文件:D:\\sustc\\AI\\Assignment1_AI/test_cases/q4/astar_2_manhattan.test\n",
      "文件:D:\\sustc\\AI\\Assignment1_AI/test_cases/q4/astar_3_goalAtDequeue.solution\n",
      "文件:D:\\sustc\\AI\\Assignment1_AI/test_cases/q4/astar_3_goalAtDequeue.test\n",
      "文件:D:\\sustc\\AI\\Assignment1_AI/test_cases/q4/CONFIG\n",
      "文件:D:\\sustc\\AI\\Assignment1_AI/test_cases/q4/graph_backtrack.solution\n",
      "文件:D:\\sustc\\AI\\Assignment1_AI/test_cases/q4/graph_backtrack.test\n",
      "文件:D:\\sustc\\AI\\Assignment1_AI/test_cases/q4/graph_manypaths.solution\n",
      "文件:D:\\sustc\\AI\\Assignment1_AI/test_cases/q4/graph_manypaths.test\n"
     ]
    }
   ],
   "source": [
    "import os,sys\n",
    "\n",
    "class Queue:\n",
    "    def __init__(self):\n",
    "        self.list = []\n",
    "    def push(self,item):\n",
    "        self.list.insert(0,item)\n",
    "    def pop(self):\n",
    "        return self.list.pop()\n",
    "    def isEmpty(self):\n",
    "        return len(self.list) == 0\n",
    "\n",
    "queue=Queue()\n",
    "os.getcwd()\n",
    "node='D:\\\\sustc\\\\AI\\\\Assignment1_AI'\n",
    "queue.push(node)\n",
    "\n",
    "while not queue.isEmpty():\n",
    "    node=queue.pop()\n",
    "    if os.path.isdir(node):  \n",
    "        myFilePath=os.listdir(node)\n",
    "        for nodes in myFilePath:\n",
    "            nodes=node+'/'+nodes\n",
    "            queue.push(nodes)\n",
    "    else:\n",
    "        print '文件:'+node"
   ]
  },
  {
   "cell_type": "markdown",
   "metadata": {},
   "source": [
    "4\\.\n",
    "Breadth First traverse：Use breadth traversal to traverse all the DLL files on the C disk and output the filename.\n",
    "\n",
    "Update your code to search for a particular filename."
   ]
  },
  {
   "cell_type": "code",
   "execution_count": 50,
   "metadata": {},
   "outputs": [
    {
     "name": "stdout",
     "output_type": "stream",
     "text": [
      "文件:D:\\sustc\\AI\\Assignment1_AI/VERSION\n",
      "文件:D:\\sustc\\AI\\Assignment1_AI/util.pyc\n",
      "文件:D:\\sustc\\AI\\Assignment1_AI/util.py\n",
      "文件:D:\\sustc\\AI\\Assignment1_AI/textDisplay.pyc\n",
      "文件:D:\\sustc\\AI\\Assignment1_AI/textDisplay.py\n",
      "文件:D:\\sustc\\AI\\Assignment1_AI/test_cases/q4/graph_manypaths.test\n",
      "文件:D:\\sustc\\AI\\Assignment1_AI/test_cases/q4/graph_manypaths.solution\n",
      "文件:D:\\sustc\\AI\\Assignment1_AI/test_cases/q4/graph_backtrack.test\n",
      "文件:D:\\sustc\\AI\\Assignment1_AI/test_cases/q4/graph_backtrack.solution\n",
      "文件:D:\\sustc\\AI\\Assignment1_AI/test_cases/q4/CONFIG\n",
      "文件:D:\\sustc\\AI\\Assignment1_AI/test_cases/q4/astar_3_goalAtDequeue.test\n",
      "文件:D:\\sustc\\AI\\Assignment1_AI/test_cases/q4/astar_3_goalAtDequeue.solution\n",
      "文件:D:\\sustc\\AI\\Assignment1_AI/test_cases/q4/astar_2_manhattan.test\n",
      "文件:D:\\sustc\\AI\\Assignment1_AI/test_cases/q4/astar_2_manhattan.solution\n",
      "文件:D:\\sustc\\AI\\Assignment1_AI/test_cases/q4/astar_1_graph_heuristic.test\n",
      "文件:D:\\sustc\\AI\\Assignment1_AI/test_cases/q4/astar_1_graph_heuristic.solution\n",
      "文件:D:\\sustc\\AI\\Assignment1_AI/test_cases/q4/astar_0.test\n",
      "文件:D:\\sustc\\AI\\Assignment1_AI/test_cases/q4/astar_0.solution\n",
      "文件:D:\\sustc\\AI\\Assignment1_AI/test_cases/q3/ucs_5_goalAtDequeue.test\n",
      "文件:D:\\sustc\\AI\\Assignment1_AI/test_cases/q3/ucs_5_goalAtDequeue.solution\n",
      "文件:D:\\sustc\\AI\\Assignment1_AI/test_cases/q3/ucs_4_testSearch.test\n",
      "文件:D:\\sustc\\AI\\Assignment1_AI/test_cases/q3/ucs_4_testSearch.solution\n",
      "文件:D:\\sustc\\AI\\Assignment1_AI/test_cases/q3/ucs_3_problemW.test\n",
      "文件:D:\\sustc\\AI\\Assignment1_AI/test_cases/q3/ucs_3_problemW.solution\n",
      "文件:D:\\sustc\\AI\\Assignment1_AI/test_cases/q3/ucs_2_problemE.test\n",
      "文件:D:\\sustc\\AI\\Assignment1_AI/test_cases/q3/ucs_2_problemE.solution\n",
      "文件:D:\\sustc\\AI\\Assignment1_AI/test_cases/q3/ucs_1_problemC.test\n",
      "文件:D:\\sustc\\AI\\Assignment1_AI/test_cases/q3/ucs_1_problemC.solution\n",
      "文件:D:\\sustc\\AI\\Assignment1_AI/test_cases/q3/ucs_0_graph.test\n",
      "文件:D:\\sustc\\AI\\Assignment1_AI/test_cases/q3/ucs_0_graph.solution\n",
      "文件:D:\\sustc\\AI\\Assignment1_AI/test_cases/q3/graph_manypaths.test\n",
      "文件:D:\\sustc\\AI\\Assignment1_AI/test_cases/q3/graph_manypaths.solution\n",
      "文件:D:\\sustc\\AI\\Assignment1_AI/test_cases/q3/graph_infinite.test\n",
      "文件:D:\\sustc\\AI\\Assignment1_AI/test_cases/q3/graph_infinite.solution\n",
      "文件:D:\\sustc\\AI\\Assignment1_AI/test_cases/q3/graph_bfs_vs_dfs.test\n",
      "文件:D:\\sustc\\AI\\Assignment1_AI/test_cases/q3/graph_bfs_vs_dfs.solution\n",
      "文件:D:\\sustc\\AI\\Assignment1_AI/test_cases/q3/graph_backtrack.test\n",
      "文件:D:\\sustc\\AI\\Assignment1_AI/test_cases/q3/graph_backtrack.solution\n",
      "文件:D:\\sustc\\AI\\Assignment1_AI/test_cases/q3/CONFIG\n",
      "文件:D:\\sustc\\AI\\Assignment1_AI/test_cases/q2/pacman_1.test\n",
      "文件:D:\\sustc\\AI\\Assignment1_AI/test_cases/q2/pacman_1.solution\n",
      "文件:D:\\sustc\\AI\\Assignment1_AI/test_cases/q2/graph_manypaths.test\n",
      "文件:D:\\sustc\\AI\\Assignment1_AI/test_cases/q2/graph_manypaths.solution\n",
      "文件:D:\\sustc\\AI\\Assignment1_AI/test_cases/q2/graph_infinite.test\n",
      "文件:D:\\sustc\\AI\\Assignment1_AI/test_cases/q2/graph_infinite.solution\n",
      "文件:D:\\sustc\\AI\\Assignment1_AI/test_cases/q2/graph_bfs_vs_dfs.test\n",
      "文件:D:\\sustc\\AI\\Assignment1_AI/test_cases/q2/graph_bfs_vs_dfs.solution\n",
      "文件:D:\\sustc\\AI\\Assignment1_AI/test_cases/q2/graph_backtrack.test\n",
      "文件:D:\\sustc\\AI\\Assignment1_AI/test_cases/q2/graph_backtrack.solution\n",
      "文件:D:\\sustc\\AI\\Assignment1_AI/test_cases/q2/CONFIG\n",
      "文件:D:\\sustc\\AI\\Assignment1_AI/test_cases/q1/pacman_1.test\n",
      "文件:D:\\sustc\\AI\\Assignment1_AI/test_cases/q1/pacman_1.solution\n",
      "文件:D:\\sustc\\AI\\Assignment1_AI/test_cases/q1/graph_manypaths.test\n",
      "文件:D:\\sustc\\AI\\Assignment1_AI/test_cases/q1/graph_manypaths.solution\n",
      "文件:D:\\sustc\\AI\\Assignment1_AI/test_cases/q1/graph_infinite.test\n",
      "文件:D:\\sustc\\AI\\Assignment1_AI/test_cases/q1/graph_infinite.solution\n",
      "文件:D:\\sustc\\AI\\Assignment1_AI/test_cases/q1/graph_bfs_vs_dfs.test\n",
      "文件:D:\\sustc\\AI\\Assignment1_AI/test_cases/q1/graph_bfs_vs_dfs.solution\n",
      "文件:D:\\sustc\\AI\\Assignment1_AI/test_cases/q1/graph_backtrack.test\n",
      "文件:D:\\sustc\\AI\\Assignment1_AI/test_cases/q1/graph_backtrack.solution\n",
      "文件:D:\\sustc\\AI\\Assignment1_AI/test_cases/q1/CONFIG\n",
      "文件:D:\\sustc\\AI\\Assignment1_AI/test_cases/CONFIG\n",
      "文件:D:\\sustc\\AI\\Assignment1_AI/testParser.pyc\n",
      "文件:D:\\sustc\\AI\\Assignment1_AI/testParser.py\n",
      "文件:D:\\sustc\\AI\\Assignment1_AI/testClasses.pyc\n",
      "文件:D:\\sustc\\AI\\Assignment1_AI/testClasses.py\n",
      "文件:D:\\sustc\\AI\\Assignment1_AI/submission_autograder.py\n",
      "文件:D:\\sustc\\AI\\Assignment1_AI/searchTestClasses.pyc\n",
      "文件:D:\\sustc\\AI\\Assignment1_AI/searchTestClasses.py\n",
      "文件:D:\\sustc\\AI\\Assignment1_AI/searchAgents.pyc\n",
      "文件:D:\\sustc\\AI\\Assignment1_AI/searchAgents.py\n",
      "文件:D:\\sustc\\AI\\Assignment1_AI/search.pyc\n",
      "文件:D:\\sustc\\AI\\Assignment1_AI/search.py\n",
      "文件:D:\\sustc\\AI\\Assignment1_AI/python\n",
      "文件:D:\\sustc\\AI\\Assignment1_AI/projectParams.pyc\n",
      "文件:D:\\sustc\\AI\\Assignment1_AI/projectParams.py\n",
      "文件:D:\\sustc\\AI\\Assignment1_AI/pacmanAgents.pyc\n",
      "文件:D:\\sustc\\AI\\Assignment1_AI/pacmanAgents.py\n",
      "文件:D:\\sustc\\AI\\Assignment1_AI/pacman.pyc\n",
      "文件:D:\\sustc\\AI\\Assignment1_AI/pacman.py\n",
      "文件:D:\\sustc\\AI\\Assignment1_AI/layouts/trickySearch.lay\n",
      "文件:D:\\sustc\\AI\\Assignment1_AI/layouts/trickyClassic.lay\n",
      "文件:D:\\sustc\\AI\\Assignment1_AI/layouts/trappedClassic.lay\n",
      "文件:D:\\sustc\\AI\\Assignment1_AI/layouts/tinySearch.lay\n",
      "文件:D:\\sustc\\AI\\Assignment1_AI/layouts/tinySafeSearch.lay\n",
      "文件:D:\\sustc\\AI\\Assignment1_AI/layouts/tinyMaze.lay\n",
      "文件:D:\\sustc\\AI\\Assignment1_AI/layouts/tinyCorners.lay\n",
      "文件:D:\\sustc\\AI\\Assignment1_AI/layouts/testSearch.lay\n",
      "文件:D:\\sustc\\AI\\Assignment1_AI/layouts/testMaze.lay\n",
      "文件:D:\\sustc\\AI\\Assignment1_AI/layouts/testClassic.lay\n",
      "文件:D:\\sustc\\AI\\Assignment1_AI/layouts/smallSearch.lay\n",
      "文件:D:\\sustc\\AI\\Assignment1_AI/layouts/smallSafeSearch.lay\n",
      "文件:D:\\sustc\\AI\\Assignment1_AI/layouts/smallMaze.lay\n",
      "文件:D:\\sustc\\AI\\Assignment1_AI/layouts/smallClassic.lay\n",
      "文件:D:\\sustc\\AI\\Assignment1_AI/layouts/powerClassic.lay\n",
      "文件:D:\\sustc\\AI\\Assignment1_AI/layouts/originalClassic.lay\n",
      "文件:D:\\sustc\\AI\\Assignment1_AI/layouts/openSearch.lay\n",
      "文件:D:\\sustc\\AI\\Assignment1_AI/layouts/openMaze.lay\n",
      "文件:D:\\sustc\\AI\\Assignment1_AI/layouts/openClassic.lay\n",
      "文件:D:\\sustc\\AI\\Assignment1_AI/layouts/oddSearch.lay\n",
      "文件:D:\\sustc\\AI\\Assignment1_AI/layouts/minimaxClassic.lay\n",
      "文件:D:\\sustc\\AI\\Assignment1_AI/layouts/mediumSearch.lay\n",
      "文件:D:\\sustc\\AI\\Assignment1_AI/layouts/mediumScaryMaze.lay\n",
      "文件:D:\\sustc\\AI\\Assignment1_AI/layouts/mediumSafeSearch.lay\n",
      "文件:D:\\sustc\\AI\\Assignment1_AI/layouts/mediumMaze.lay\n",
      "文件:D:\\sustc\\AI\\Assignment1_AI/layouts/mediumDottedMaze.lay\n",
      "文件:D:\\sustc\\AI\\Assignment1_AI/layouts/mediumCorners.lay\n",
      "文件:D:\\sustc\\AI\\Assignment1_AI/layouts/mediumClassic.lay\n",
      "文件:D:\\sustc\\AI\\Assignment1_AI/layouts/greedySearch.lay\n",
      "文件:D:\\sustc\\AI\\Assignment1_AI/layouts/contoursMaze.lay\n",
      "文件:D:\\sustc\\AI\\Assignment1_AI/layouts/contestClassic.lay\n",
      "文件:D:\\sustc\\AI\\Assignment1_AI/layouts/capsuleClassic.lay\n",
      "文件:D:\\sustc\\AI\\Assignment1_AI/layouts/boxSearch.lay\n",
      "文件:D:\\sustc\\AI\\Assignment1_AI/layouts/bigSearch.lay\n",
      "文件:D:\\sustc\\AI\\Assignment1_AI/layouts/bigSafeSearch.lay\n",
      "文件:D:\\sustc\\AI\\Assignment1_AI/layouts/bigMaze.lay\n",
      "文件:D:\\sustc\\AI\\Assignment1_AI/layouts/bigCorners.lay\n",
      "文件:D:\\sustc\\AI\\Assignment1_AI/layout.pyc\n",
      "文件:D:\\sustc\\AI\\Assignment1_AI/layout.py\n",
      "文件:D:\\sustc\\AI\\Assignment1_AI/keyboardAgents.pyc\n",
      "文件:D:\\sustc\\AI\\Assignment1_AI/keyboardAgents.py\n",
      "文件:D:\\sustc\\AI\\Assignment1_AI/graphicsUtils.pyc\n",
      "文件:D:\\sustc\\AI\\Assignment1_AI/graphicsUtils.py\n",
      "文件:D:\\sustc\\AI\\Assignment1_AI/graphicsDisplay.pyc\n",
      "文件:D:\\sustc\\AI\\Assignment1_AI/graphicsDisplay.py\n",
      "文件:D:\\sustc\\AI\\Assignment1_AI/grading.pyc\n",
      "文件:D:\\sustc\\AI\\Assignment1_AI/grading.py\n",
      "文件:D:\\sustc\\AI\\Assignment1_AI/ghostAgents.pyc\n",
      "文件:D:\\sustc\\AI\\Assignment1_AI/ghostAgents.py\n",
      "文件:D:\\sustc\\AI\\Assignment1_AI/game.pyc\n",
      "文件:D:\\sustc\\AI\\Assignment1_AI/game.py\n",
      "文件:D:\\sustc\\AI\\Assignment1_AI/eightpuzzle.py\n",
      "文件:D:\\sustc\\AI\\Assignment1_AI/commands.txt\n",
      "文件:D:\\sustc\\AI\\Assignment1_AI/autograder.py\n",
      "文件:D:\\sustc\\AI\\Assignment1_AI/.spyproject/workspace.ini\n",
      "文件:D:\\sustc\\AI\\Assignment1_AI/.spyproject/vcs.ini\n",
      "文件:D:\\sustc\\AI\\Assignment1_AI/.spyproject/encoding.ini\n",
      "文件:D:\\sustc\\AI\\Assignment1_AI/.spyproject/codestyle.ini\n"
     ]
    }
   ],
   "source": [
    "import os,sys\n",
    "\n",
    "class Stack:\n",
    "    \"A container with a last-in-first-out (LIFO) queuing policy.\"\n",
    "    def __init__(self):\n",
    "        self.list = []\n",
    "\n",
    "    def push(self,item):\n",
    "        \"Push 'item' onto the stack\"\n",
    "        self.list.append(item)\n",
    "\n",
    "    def pop(self):\n",
    "        \"Pop the most recently pushed item from the stack\"\n",
    "        return self.list.pop()\n",
    "\n",
    "    def isEmpty(self):\n",
    "        \"Returns true if the stack is empty\"\n",
    "        return len(self.list) == 0\n",
    "\n",
    "queue=Stack()\n",
    "os.getcwd()\n",
    "node='D:\\\\sustc\\\\AI\\\\Assignment1_AI'\n",
    "queue.push(node)\n",
    "\n",
    "while not queue.isEmpty():\n",
    "    node=queue.pop()\n",
    "    if os.path.isdir(node):  \n",
    "        myFilePath=os.listdir(node)\n",
    "        for nodes in myFilePath:\n",
    "            nodes=node+'/'+nodes\n",
    "            queue.push(nodes)\n",
    "    else:\n",
    "        print '文件:'+node"
   ]
  },
  {
   "cell_type": "markdown",
   "metadata": {},
   "source": [
    "5\\. Uniform cost search"
   ]
  },
  {
   "cell_type": "markdown",
   "metadata": {},
   "source": [
    "Consider a state space where the start state is 2 and each state k has three successors: numbers 2k, 2k+1, 2k+2. The cost from state k to each respective child is k, ground(k/2), k+2.\n",
    "\n",
    "can you implement a uniform-cost-search algorithm with python. The goal state is number 85."
   ]
  },
  {
   "cell_type": "markdown",
   "metadata": {},
   "source": [
    "思路:\n",
    "\n",
    "先根据要求通过算法创建树，初始节点的value设定为2，节点之间的cost存储在node的cost属性中，节点的数值储存在node的value属性中，\n",
    "之后再用uniform cost search搜索85这个值，然后输出路径"
   ]
  },
  {
   "cell_type": "code",
   "execution_count": 51,
   "metadata": {
    "collapsed": true
   },
   "outputs": [],
   "source": [
    "class Tree:\n",
    "    def __init__(self,root):\n",
    "        self.key=root\n",
    "        self.leftChild=None\n",
    "        self.midChild=None\n",
    "        self.rightChild=None\n",
    "    def setLeft(self,newNode):\n",
    "        self.leftChild=Tree(newNode)\n",
    "    def setRight(self,newNode):\n",
    "        self.rightChild=Tree(newNode)\n",
    "    def setMid(self,newNode):\n",
    "        self.midChild=Tree(newNode)\n",
    "    def getLeftChild(self):\n",
    "        return self.leftChild    \n",
    "    def getRightChild(self):\n",
    "        return self.rightChild\n",
    "    def getMidChild(self):\n",
    "        return self.midChild\n",
    "    def getKey(self):\n",
    "        return self.key                            \n",
    "class Node:\n",
    "    def __init__(self,value,cost):\n",
    "        self.value=value\n",
    "        self.cost=cost\n",
    "    def getValue(self):\n",
    "        return self.value\n",
    "    def getCost(self):\n",
    "        return self.cost"
   ]
  },
  {
   "cell_type": "code",
   "execution_count": 103,
   "metadata": {
    "collapsed": true
   },
   "outputs": [],
   "source": [
    "node=Node(2,0)\n",
    "r=Tree(node)\n",
    "def buildTree(r):\n",
    "    a=r.getKey().getValue()\n",
    "    b=2*a\n",
    "    c=2*a+1\n",
    "    d=2*a+2\n",
    "    e=a\n",
    "    print c\n",
    "    f=int(0.5*a)\n",
    "    g=2+a\n",
    "    leftNode=Node(b,e)\n",
    "    midNode=Node(c,f)\n",
    "    rightNode=Node(d,g)\n",
    "    r.setLeft(leftNode)\n",
    "    r.setMid(midNode)\n",
    "    r.setRight(rightNode)\n",
    "    if (a<=25):\n",
    "        buildTree(r.getLeftChild())\n",
    "        buildTree(r.getMidChild())\n",
    "        buildTree(r.getRightChild())\n",
    "    return r"
   ]
  },
  {
   "cell_type": "code",
   "execution_count": 104,
   "metadata": {
    "scrolled": false
   },
   "outputs": [
    {
     "name": "stdout",
     "output_type": "stream",
     "text": [
      "5\n",
      "9\n",
      "17\n",
      "33\n",
      "65\n",
      "67\n",
      "69\n",
      "35\n",
      "69\n",
      "71\n",
      "73\n",
      "37\n",
      "73\n",
      "75\n",
      "77\n",
      "19\n",
      "37\n",
      "73\n",
      "75\n",
      "77\n",
      "39\n",
      "77\n",
      "79\n",
      "81\n",
      "41\n",
      "81\n",
      "83\n",
      "85\n",
      "21\n",
      "41\n",
      "81\n",
      "83\n",
      "85\n",
      "43\n",
      "85\n",
      "87\n",
      "89\n",
      "45\n",
      "89\n",
      "91\n",
      "93\n",
      "11\n",
      "21\n",
      "41\n",
      "81\n",
      "83\n",
      "85\n",
      "43\n",
      "85\n",
      "87\n",
      "89\n",
      "45\n",
      "89\n",
      "91\n",
      "93\n",
      "23\n",
      "45\n",
      "89\n",
      "91\n",
      "93\n",
      "47\n",
      "93\n",
      "95\n",
      "97\n",
      "49\n",
      "97\n",
      "99\n",
      "101\n",
      "25\n",
      "49\n",
      "97\n",
      "99\n",
      "101\n",
      "51\n",
      "101\n",
      "103\n",
      "105\n",
      "53\n",
      "13\n",
      "25\n",
      "49\n",
      "97\n",
      "99\n",
      "101\n",
      "51\n",
      "101\n",
      "103\n",
      "105\n",
      "53\n",
      "27\n",
      "53\n",
      "55\n",
      "57\n",
      "29\n",
      "57\n",
      "59\n",
      "61\n"
     ]
    },
    {
     "data": {
      "text/plain": [
       "<__main__.Tree instance at 0x00000000053F30C8>"
      ]
     },
     "execution_count": 104,
     "metadata": {},
     "output_type": "execute_result"
    }
   ],
   "source": [
    "buildTree(r)"
   ]
  },
  {
   "cell_type": "code",
   "execution_count": 109,
   "metadata": {},
   "outputs": [],
   "source": [
    "import heapq\n",
    "class PriorityQueue:\n",
    "    \"\"\"\n",
    "      Implements a priority queue data structure. Each inserted item\n",
    "      has a priority associated with it and the client is usually interested\n",
    "      in quick retrieval of the lowest-priority item in the queue. This\n",
    "      data structure allows O(1) access to the lowest-priority item.\n",
    "    \"\"\"\n",
    "    def  __init__(self):\n",
    "        self.heap = []\n",
    "        self.count = 0\n",
    "\n",
    "    def push(self, item, priority):\n",
    "        entry = (priority, self.count, item)\n",
    "        heapq.heappush(self.heap, entry)\n",
    "        self.count += 1\n",
    "\n",
    "    def pop(self):\n",
    "        (_, _, item) = heapq.heappop(self.heap)\n",
    "        return item\n",
    "\n",
    "    def isEmpty(self):\n",
    "        return len(self.heap) == 0\n",
    "\n",
    "    def update(self, item, priority):\n",
    "        # If item already in priority queue with higher priority, update its priority and rebuild the heap.\n",
    "        # If item already in priority queue with equal or lower priority, do nothing.\n",
    "        # If item not in priority queue, do the same thing as self.push.\n",
    "        for index, (p, c, i) in enumerate(self.heap):\n",
    "            if i == item:\n",
    "                if p <= priority:\n",
    "                    break\n",
    "                del self.heap[index]\n",
    "                self.heap.append((priority, c, item))\n",
    "                heapq.heapify(self.heap)\n",
    "                break\n",
    "        else:\n",
    "            self.push(item, priority)\n",
    "\n",
    "class PriorityQueueWithFunction(PriorityQueue):\n",
    "    \"\"\"\n",
    "    Implements a priority queue with the same push/pop signature of the\n",
    "    Queue and the Stack classes. This is designed for drop-in replacement for\n",
    "    those two classes. The caller has to provide a priority function, which\n",
    "    extracts each item's priority.\n",
    "    \"\"\"\n",
    "    def  __init__(self, priorityFunction):\n",
    "        \"priorityFunction (item) -> priority\"\n",
    "        self.priorityFunction = priorityFunction      # store the priority function\n",
    "        PriorityQueue.__init__(self)        # super-class initializer\n",
    "\n",
    "    def push(self, item):\n",
    "        \"Adds an item to the queue with priority from the priority function\"\n",
    "        PriorityQueue.push(self, item, self.priorityFunction(item))\n",
    "\n",
    "\n",
    "def ucs(start, goal): \n",
    "    visited =[]\n",
    "    queue = PriorityQueueWithFunction(lambda x: x[2]) \n",
    "    queue.push((start,[],0)) \n",
    "    while not queue.isEmpty(): \n",
    "        state,path,cost = queue.pop() \n",
    "        if state.getKey().getValue() not in visited: \n",
    "            visited.append(state.getKey().getValue()) \n",
    "            if  state.getKey().getValue()== goal: \n",
    "                print path\n",
    "            else:\n",
    "                left=state.getLeftChild()\n",
    "                mid=state.getMidChild()\n",
    "                right=state.getRightChild()\n",
    "                if left:\n",
    "                    if left.getKey().getValue() not in visited:\n",
    "                        total_cost=cost+left.getKey().getCost()\n",
    "                        queue.push((left,path+[left.getKey().getValue()],total_cost))\n",
    "                      \n",
    "                if mid:\n",
    "                    if mid.getKey().getValue() not in visited:\n",
    "                        total_cost=cost+mid.getKey().getCost()\n",
    "                        queue.push((mid,path+[mid.getKey().getValue()],total_cost))\n",
    "                if right:\n",
    "                    if right.getKey().getValue() not in visited:\n",
    "                        total_cost=cost+right.getKey().getCost()\n",
    "                        queue.push((right,path+[mid.getKey().getValue()],total_cost))\n",
    "                  \n"
   ]
  },
  {
   "cell_type": "markdown",
   "metadata": {},
   "source": [
    "打印路径"
   ]
  },
  {
   "cell_type": "code",
   "execution_count": 110,
   "metadata": {},
   "outputs": [
    {
     "name": "stdout",
     "output_type": "stream",
     "text": [
      "[5, 10, 21, 42, 85]\n"
     ]
    }
   ],
   "source": [
    "path=ucs(r,85)\n",
    "path"
   ]
  },
  {
   "cell_type": "markdown",
   "metadata": {},
   "source": [
    "6\\.a* question"
   ]
  },
  {
   "cell_type": "markdown",
   "metadata": {},
   "source": [
    "A cute cat stays in the A position, he is hungry. But the food is placed in the B position. Can you help him to find the food? \n",
    "Hint:  The problem isn't easy. It's essential for you to understand the A* algorithm before you solve this problem. Then, you can use some thought of Node in java, when you are in code.\n",
    "\n",
    "<img src=\"img/p4.png\" width=\"500\" height=\"400\" >\n"
   ]
  },
  {
   "cell_type": "code",
   "execution_count": 111,
   "metadata": {
    "collapsed": true
   },
   "outputs": [],
   "source": [
    "## write your answer here!"
   ]
  },
  {
   "cell_type": "code",
   "execution_count": null,
   "metadata": {
    "collapsed": true
   },
   "outputs": [],
   "source": []
  }
 ],
 "metadata": {
  "kernelspec": {
   "display_name": "Python 2",
   "language": "python",
   "name": "python2"
  },
  "language_info": {
   "codemirror_mode": {
    "name": "ipython",
    "version": 2
   },
   "file_extension": ".py",
   "mimetype": "text/x-python",
   "name": "python",
   "nbconvert_exporter": "python",
   "pygments_lexer": "ipython2",
   "version": "2.7.13"
  }
 },
 "nbformat": 4,
 "nbformat_minor": 2
}
